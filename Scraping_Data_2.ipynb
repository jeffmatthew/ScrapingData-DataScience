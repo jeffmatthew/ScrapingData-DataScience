{
  "nbformat": 4,
  "nbformat_minor": 0,
  "metadata": {
    "colab": {
      "provenance": []
    },
    "kernelspec": {
      "name": "python3",
      "display_name": "Python 3"
    },
    "language_info": {
      "name": "python"
    }
  },
  "cells": [
    {
      "cell_type": "code",
      "execution_count": null,
      "metadata": {
        "id": "wigyLK_tD7SZ"
      },
      "outputs": [],
      "source": [
        "from bs4 import BeautifulSoup\n",
        "import requests\n",
        "import re\n",
        "import pandas as pd"
      ]
    },
    {
      "cell_type": "code",
      "source": [
        "# Downloading Detik data\n",
        "headers = {'Accept-Language': 'en-US,en;q=0.8'}\n",
        "url = 'https://www.detik.com'\n",
        "response = requests.get(url,headers=headers)\n",
        "soup = BeautifulSoup(response.text, \"html.parser\")"
      ],
      "metadata": {
        "id": "bR0u2_KhEEF4"
      },
      "execution_count": null,
      "outputs": []
    },
    {
      "cell_type": "code",
      "source": [
        "newstitle = soup.select('h3.media__title')\n",
        "print(newstitle[0])\n",
        "print(\" \")\n",
        "print(\"how many titles are available?\",len(soup.select('h3.media__title')))\n"
      ],
      "metadata": {
        "colab": {
          "base_uri": "https://localhost:8080/"
        },
        "id": "5flBzbOTGT0M",
        "outputId": "f82cffb3-c174-4f17-9465-ee688b58b2ee"
      },
      "execution_count": null,
      "outputs": [
        {
          "output_type": "stream",
          "name": "stdout",
          "text": [
            "<h3 class=\"media__title\">\n",
            "<a class=\"media__link\" dtr-act=\"artikel\" dtr-evt=\"newsfeed\" dtr-id=\"6941646\" dtr-idx=\"1\" dtr-sec=\"\" dtr-ttl=\"Usulan Transisi Pertalite ke Pertamax Green 92 Masuk RAPBN 2024?\" href=\"https://finance.detik.com/energi/d-6941646/usulan-transisi-pertalite-ke-pertamax-green-92-masuk-rapbn-2024\" onclick=\"_pt(this)\">\n",
            "                    Usulan Transisi Pertalite ke Pertamax Green 92 Masuk RAPBN 2024?                </a>\n",
            "</h3>\n",
            " \n",
            "how many titles are available? 66\n"
          ]
        }
      ]
    },
    {
      "cell_type": "code",
      "source": [
        "text = soup.select('h3 a')\n",
        "print(text)"
      ],
      "metadata": {
        "colab": {
          "base_uri": "https://localhost:8080/"
        },
        "id": "uJgF3UsCJClH",
        "outputId": "40360cf0-407a-4c02-e356-1a60b27b8cc4"
      },
      "execution_count": null,
      "outputs": [
        {
          "output_type": "stream",
          "name": "stdout",
          "text": [
            "[<a dtr-act=\"berita terkait\" dtr-evt=\"headline\" dtr-id=\"6941623\" dtr-idx=\"1\" dtr-sec=\"beritaterkaitHL\" dtr-ttl=\"Jembatan Akses Marunda Sisi Utara Bakal Tuntas Oktober\" href=\"https://news.detik.com/berita/d-6941623/jembatan-akses-marunda-sisi-utara-bakal-tuntas-oktober\" onclick=\"_pt(this)\">\n",
            "                                Jembatan Akses Marunda Sisi Utara Bakal Tuntas Oktober                            </a>, <a dtr-act=\"berita terkait\" dtr-evt=\"headline\" dtr-id=\"6941619\" dtr-idx=\"2\" dtr-sec=\"beritaterkaitHL\" dtr-ttl=\"Penampakan Mobil dan Tas Mewah Selebgram Nur Utami yang Disita Bareskrim\" href=\"https://news.detik.com/berita/d-6941619/penampakan-mobil-dan-tas-mewah-selebgram-nur-utami-yang-disita-bareskrim\" onclick=\"_pt(this)\">\n",
            "                                Penampakan Mobil dan Tas Mewah Selebgram Nur Utami yang Disita Bareskrim                            </a>, <a class=\"media__link\" dtr-act=\"artikel\" dtr-evt=\"newsfeed\" dtr-id=\"6941646\" dtr-idx=\"1\" dtr-sec=\"\" dtr-ttl=\"Usulan Transisi Pertalite ke Pertamax Green 92 Masuk RAPBN 2024?\" href=\"https://finance.detik.com/energi/d-6941646/usulan-transisi-pertalite-ke-pertamax-green-92-masuk-rapbn-2024\" onclick=\"_pt(this)\">\n",
            "                    Usulan Transisi Pertalite ke Pertamax Green 92 Masuk RAPBN 2024?                </a>, <a class=\"media__link\" dtr-act=\"artikel\" dtr-evt=\"newsfeed\" dtr-id=\"6941645\" dtr-idx=\"2\" dtr-sec=\"\" dtr-ttl=\"Memanas, India Keluarkan Travel Warning ke Kanada!\" href=\"https://news.detik.com/internasional/d-6941645/memanas-india-keluarkan-travel-warning-ke-kanada\" onclick=\"_pt(this)\">\n",
            "                    Memanas, India Keluarkan Travel Warning ke Kanada!                </a>, <a class=\"media__link\" dtr-act=\"artikel\" dtr-evt=\"newsfeed\" dtr-id=\"6941565\" dtr-idx=\"3\" dtr-sec=\"\" dtr-ttl=\"Nagorno-Karabakh Berdarah, Operasi Militer Azerbaijan Tewaskan 32 Orang\" href=\"https://news.detik.com/internasional/d-6941565/nagorno-karabakh-berdarah-operasi-militer-azerbaijan-tewaskan-32-orang\" onclick=\"_pt(this)\">\n",
            "                    Nagorno-Karabakh Berdarah, Operasi Militer Azerbaijan Tewaskan 32 Orang                </a>, <a class=\"media__link\" dtr-act=\"artikel\" dtr-evt=\"box video\" dtr-id=\"230920098\" dtr-idx=\"1\" dtr-sec=\"\" dtr-ttl=\"Massa FPI-PA 212 Gelar 'Aksi 209 Bela Rempang' di Patung Kuda Jakpus\" href=\"https://20.detik.com/detikupdate/20230920-230920098/massa-fpi-pa-212-gelar-aksi-209-bela-rempang-di-patung-kuda-jakpus\" onclick=\"_pt(this)\">\n",
            " Massa FPI-PA 212 Gelar 'Aksi 209 Bela Rempang' di Patung Kuda Jakpus </a>, <a class=\"media__link\" dtr-act=\"artikel\" dtr-evt=\"box video\" dtr-id=\"230920058\" dtr-idx=\"2\" dtr-sec=\"\" dtr-ttl=\"Detik-detik Atlet Futsal Blitar Ditendang Lawan saat Selebrasi Sujud\" href=\"https://20.detik.com/detikupdate/20230920-230920058/detik-detik-atlet-futsal-blitar-ditendang-lawan-saat-selebrasi-sujud\" onclick=\"_pt(this)\">\n",
            " Detik-detik Atlet Futsal Blitar Ditendang Lawan saat Selebrasi Sujud </a>, <a class=\"media__link\" dtr-act=\"artikel\" dtr-evt=\"box video\" dtr-id=\"230920078\" dtr-idx=\"3\" dtr-sec=\"\" dtr-ttl=\"Tangis Fans Cilik Iran Berubah Jadi 'Siuuu' Usai Bertemu Ronaldo\" href=\"https://20.detik.com/detikupdate/20230920-230920078/tangis-fans-cilik-iran-berubah-jadi-siuuu-usai-bertemu-ronaldo\" onclick=\"_pt(this)\">\n",
            " Tangis Fans Cilik Iran Berubah Jadi 'Siuuu' Usai Bertemu Ronaldo </a>, <a class=\"media__link\" dtr-act=\"artikel\" dtr-evt=\"newsfeed\" dtr-id=\"6941642\" dtr-idx=\"4\" dtr-sec=\"\" dtr-ttl=\"Ganjar Sebut Nama Bacawapres Bukan Jadi Prioritas: Kita Siapkan Waktu Dulu\" href=\"https://news.detik.com/pemilu/d-6941642/ganjar-sebut-nama-bacawapres-bukan-jadi-prioritas-kita-siapkan-waktu-dulu\" onclick=\"_pt(this)\">\n",
            "                    Ganjar Sebut Nama Bacawapres Bukan Jadi Prioritas: Kita Siapkan Waktu Dulu                </a>, <a class=\"media__link\" dtr-act=\"artikel\" dtr-evt=\"box Video 20Detik\" dtr-id=\"6941592\" dtr-idx=\"5\" dtr-sec=\"\" dtr-ttl=\"K-Talk: TMI Game Bareng XODIAC!\" href=\"https://hot.detik.com/detiktv/d-6941592/k-talk-tmi-game-bareng-xodiac\" onclick=\"_pt(this)\">\n",
            "\t\t\t\t\tK-Talk: TMI Game Bareng XODIAC!                </a>, <a class=\"media__link\" dtr-act=\"artikel\" dtr-evt=\"newsfeed\" dtr-id=\"6941641\" dtr-idx=\"6\" dtr-sec=\"\" dtr-ttl=\"Pebalap Masih Ada yang di Rumah Gegara Belum Dapat Visa, Bagaimana Nasib MotoGP India?\" href=\"https://oto.detik.com/otosport/d-6941641/pebalap-masih-ada-yang-di-rumah-gegara-belum-dapat-visa-bagaimana-nasib-motogp-india\" onclick=\"_pt(this)\">\n",
            "                    Pebalap Masih Ada yang di Rumah Gegara Belum Dapat Visa, Bagaimana Nasib MotoGP India?                </a>, <a class=\"media__link\" dtr-act=\"artikel\" dtr-evt=\"newsfeed\" dtr-id=\"6941561\" dtr-idx=\"7\" dtr-sec=\"\" dtr-ttl=\"Buron 4 Bulan, Terduga Pelaku Pialang Asuransi Ilegal Ditangkap! Ini Tampangnya\" href=\"https://finance.detik.com/moneter/d-6941561/buron-4-bulan-terduga-pelaku-pialang-asuransi-ilegal-ditangkap-ini-tampangnya\" onclick=\"_pt(this)\">\n",
            "                    Buron 4 Bulan, Terduga Pelaku Pialang Asuransi Ilegal Ditangkap! Ini Tampangnya                </a>, <a class=\"media__link\" dtr-act=\"artikel\" dtr-evt=\"newsfeed\" dtr-id=\"6941634\" dtr-idx=\"9\" dtr-sec=\"\" dtr-ttl=\"Mau Tiket Kereta Cuma Rp 50 Ribu? Buruan ke Sini\" href=\"https://finance.detik.com/berita-ekonomi-bisnis/d-6941634/mau-tiket-kereta-cuma-rp-50-ribu-buruan-ke-sini\" onclick=\"_pt(this)\">\n",
            "                    Mau Tiket Kereta Cuma Rp 50 Ribu? Buruan ke Sini                </a>, <a class=\"media__link\" dtr-act=\"artikel\" dtr-evt=\"newsfeed\" dtr-id=\"6941626\" dtr-idx=\"10\" dtr-sec=\"\" dtr-ttl=\"Najwa Shihab-Akmal Marhali Masuk Tim Satgas Antimafia Bola Independen\" href=\"https://sport.detik.com/sepakbola/liga-indonesia/d-6941626/najwa-shihab-akmal-marhali-masuk-tim-satgas-antimafia-bola-independen\" onclick=\"_pt(this)\">\n",
            "                    Najwa Shihab-Akmal Marhali Masuk Tim Satgas Antimafia Bola Independen                </a>, <a class=\"media__link\" dtr-act=\"artikel\" dtr-evt=\"newsfeed\" dtr-id=\"6941478\" dtr-idx=\"12\" dtr-sec=\"\" dtr-ttl=\"Beriman kepada Qada dan Qadar: Arti, Dalil dan Fungsinya\" href=\"https://www.detik.com/hikmah/khazanah/d-6941478/beriman-kepada-qada-dan-qadar-arti-dalil-dan-fungsinya\" onclick=\"_pt(this)\">\n",
            "                    Beriman kepada Qada dan Qadar: Arti, Dalil dan Fungsinya                </a>, <a class=\"media__link\" dtr-act=\"artikel\" dtr-evt=\"box widget spesial\" dtr-id=\"6941531\" dtr-idx=\"13\" dtr-sec=\"\" dtr-ttl=\"Kondisi Terkini Panji Petualang, Kadar Gula Darah Sudah Sentuh Angka Normal\" href=\"https://health.detik.com/berita-detikhealth/d-6941531/kondisi-terkini-panji-petualang-kadar-gula-darah-sudah-sentuh-angka-normal\" onclick=\"_pt(this)\">\n",
            "\t\t\t\t\tKondisi Terkini Panji Petualang, Kadar Gula Darah Sudah Sentuh Angka Normal                </a>, <a class=\"media__link\" dtr-act=\"artikel\" dtr-evt=\"newsfeed\" dtr-id=\"6941623\" dtr-idx=\"15\" dtr-sec=\"\" dtr-ttl=\"Jembatan Akses Marunda Sisi Utara Bakal Tuntas Oktober\" href=\"https://news.detik.com/berita/d-6941623/jembatan-akses-marunda-sisi-utara-bakal-tuntas-oktober\" onclick=\"_pt(this)\">\n",
            "                    Jembatan Akses Marunda Sisi Utara Bakal Tuntas Oktober                </a>, <a class=\"media__link\" dtr-act=\"artikel\" dtr-evt=\"newsfeed\" dtr-id=\"6941621\" dtr-idx=\"16\" dtr-sec=\"\" dtr-ttl=\"Ini Cara Google Hadapi Pemilu 2024 yang Dominan Pemilih Muda\" href=\"https://inet.detik.com/cyberlife/d-6941621/ini-cara-google-hadapi-pemilu-2024-yang-dominan-pemilih-muda\" onclick=\"_pt(this)\">\n",
            "                    Ini Cara Google Hadapi Pemilu 2024 yang Dominan Pemilih Muda                </a>, <a class=\"media__link\" dtr-act=\"artikel\" dtr-evt=\"newsfeed\" dtr-id=\"6941466\" dtr-idx=\"17\" dtr-sec=\"\" dtr-ttl=\"Bak Film Laga! Pria Bogor Lompat-Duduki Setang lalu Pukuli Maling Motornya\" href=\"https://news.detik.com/berita/d-6941466/bak-film-laga-pria-bogor-lompat-duduki-setang-lalu-pukuli-maling-motornya\" onclick=\"_pt(this)\">\n",
            "                    Bak Film Laga! Pria Bogor Lompat-Duduki Setang lalu Pukuli Maling Motornya                </a>, <a class=\"media__link\" dtr-act=\"artikel\" dtr-evt=\"newsfeed\" dtr-id=\"6941622\" dtr-idx=\"18\" dtr-sec=\"\" dtr-ttl=\"Koper Yura Yunita 'Nyangkut' di Bandara, Bos Garuda Buka Suara\" href=\"https://finance.detik.com/berita-ekonomi-bisnis/d-6941622/koper-yura-yunita-nyangkut-di-bandara-bos-garuda-buka-suara\" onclick=\"_pt(this)\">\n",
            "                    Koper Yura Yunita 'Nyangkut' di Bandara, Bos Garuda Buka Suara                </a>, <a class=\"media__link\" dtr-act=\"artikel\" dtr-evt=\"newsfeed\" dtr-id=\"6941619\" dtr-idx=\"19\" dtr-sec=\"\" dtr-ttl=\"Penampakan Mobil dan Tas Mewah Selebgram Nur Utami yang Disita Bareskrim\" href=\"https://news.detik.com/berita/d-6941619/penampakan-mobil-dan-tas-mewah-selebgram-nur-utami-yang-disita-bareskrim\" onclick=\"_pt(this)\">\n",
            "                    Penampakan Mobil dan Tas Mewah Selebgram Nur Utami yang Disita Bareskrim                </a>, <a class=\"media__link\" dtr-act=\"artikel\" dtr-evt=\"newsfeed\" dtr-id=\"6941615\" dtr-idx=\"20\" dtr-sec=\"\" dtr-ttl=\"KPU: Ada Usulan Pemungutan Suara di Luar Negeri 8, 9 atau 10 Februari 2024\" href=\"https://news.detik.com/pemilu/d-6941615/kpu-ada-usulan-pemungutan-suara-di-luar-negeri-8-9-atau-10-februari-2024\" onclick=\"_pt(this)\">\n",
            "                    KPU: Ada Usulan Pemungutan Suara di Luar Negeri 8, 9 atau 10 Februari 2024                </a>, <a class=\"media__link\" dtr-act=\"artikel\" dtr-evt=\"newsfeed\" dtr-id=\"6941611\" dtr-idx=\"21\" dtr-sec=\"\" dtr-ttl=\"Kementerian ESDM Lelang 3 Blok Migas di Papua\" href=\"https://finance.detik.com/energi/d-6941611/kementerian-esdm-lelang-3-blok-migas-di-papua\" onclick=\"_pt(this)\">\n",
            "                    Kementerian ESDM Lelang 3 Blok Migas di Papua                </a>, <a class=\"media__link\" dtr-act=\"artikel\" dtr-evt=\"box Denpasar\" dtr-id=\"6941473\" dtr-idx=\"22\" dtr-sec=\"\" dtr-ttl=\"Terungkap, Bule Inggris yang Dorong Petugas juga Sempat Tampar Polisi\" href=\"https://www.detik.com/bali/hukum-dan-kriminal/d-6941473/terungkap-bule-inggris-yang-dorong-petugas-juga-sempat-tampar-polisi\" onclick=\"_pt(this)\">\n",
            "\t\t\t\t\tTerungkap, Bule Inggris yang Dorong Petugas juga Sempat Tampar Polisi                </a>, <a class=\"media__link\" dtr-act=\"artikel\" dtr-evt=\"newsfeed\" dtr-id=\"6941609\" dtr-idx=\"23\" dtr-sec=\"\" dtr-ttl=\"Bunga Bangkai Terancam Punah, Kisah Sukses Konservasi RI Jadi Sorotan\" href=\"https://news.detik.com/bbc-world/d-6941609/bunga-bangkai-terancam-punah-kisah-sukses-konservasi-ri-jadi-sorotan\" onclick=\"_pt(this)\">\n",
            "                    Bunga Bangkai Terancam Punah, Kisah Sukses Konservasi RI Jadi Sorotan                </a>, <a class=\"media__link\" dtr-act=\"artikel\" dtr-evt=\"newsfeed\" dtr-id=\"6941436\" dtr-idx=\"24\" dtr-sec=\"\" dtr-ttl=\"Indobuildco Mau Perpanjang HGB Hotel Sultan, BPN: Harus Persetujuan Setneg\" href=\"https://www.detik.com/properti/berita/d-6941436/indobuildco-mau-perpanjang-hgb-hotel-sultan-bpn-harus-persetujuan-setneg\" onclick=\"_pt(this)\">\n",
            "                    Indobuildco Mau Perpanjang HGB Hotel Sultan, BPN: Harus Persetujuan Setneg                </a>, <a class=\"media__link\" dtr-act=\"artikel\" dtr-evt=\"newsfeed\" dtr-id=\"6941405\" dtr-idx=\"25\" dtr-sec=\"\" dtr-ttl=\"Meski Dekat Tempat Sampah, Taman Ini Diserbu Warga Medan yang Butuh Hiburan\" href=\"https://travel.detik.com/travel-news/d-6941405/meski-dekat-tempat-sampah-taman-ini-diserbu-warga-medan-yang-butuh-hiburan\" onclick=\"_pt(this)\">\n",
            "                    Meski Dekat Tempat Sampah, Taman Ini Diserbu Warga Medan yang Butuh Hiburan                </a>, <a class=\"media__link\" dtr-act=\"artikel\" dtr-evt=\"newsfeed\" dtr-id=\"6941606\" dtr-idx=\"26\" dtr-sec=\"\" dtr-ttl=\"Ketua KPU di Rapat DPR: Kami Lebih Cenderung Pendaftaran Capres 19-25 Oktober\" href=\"https://news.detik.com/pemilu/d-6941606/ketua-kpu-di-rapat-dpr-kami-lebih-cenderung-pendaftaran-capres-19-25-oktober\" onclick=\"_pt(this)\">\n",
            "                    Ketua KPU di Rapat DPR: Kami Lebih Cenderung Pendaftaran Capres 19-25 Oktober                </a>, <a class=\"media__link\" dtr-act=\"artikel\" dtr-evt=\"newsfeed\" dtr-id=\"6941604\" dtr-idx=\"27\" dtr-sec=\"\" dtr-ttl=\"Polisi Bongkar Sindikat Pemalsuan STNK di Depok, 3 Pelaku Ditangkap\" href=\"https://news.detik.com/berita/d-6941604/polisi-bongkar-sindikat-pemalsuan-stnk-di-depok-3-pelaku-ditangkap\" onclick=\"_pt(this)\">\n",
            "                    Polisi Bongkar Sindikat Pemalsuan STNK di Depok, 3 Pelaku Ditangkap                </a>, <a class=\"media__link\" dtr-act=\"artikel\" dtr-evt=\"newsfeed\" dtr-id=\"6941602\" dtr-idx=\"28\" dtr-sec=\"\" dtr-ttl=\"Benda-benda Berusia Lebih dari Seribu Tahun Milik Muslim Ditemukan di Sydney\" href=\"https://news.detik.com/abc-australia/d-6941602/benda-benda-berusia-lebih-dari-seribu-tahun-milik-muslim-ditemukan-di-sydney\" onclick=\"_pt(this)\">\n",
            "                    Benda-benda Berusia Lebih dari Seribu Tahun Milik Muslim Ditemukan di Sydney                </a>, <a class=\"media__link\" dtr-act=\"artikel\" dtr-evt=\"newsfeed\" dtr-id=\"6941601\" dtr-idx=\"29\" dtr-sec=\"\" dtr-ttl=\"Penabrak Tembok yang Tewaskan Siswa SD saat Wudu di Padang Ditangkap\" href=\"https://20.detik.com/detikupdate/20230920-230920103/penabrak-tembok-yang-tewaskan-siswa-sd-saat-wudu-di-padang-ditangkap\" onclick=\"_pt(this)\">\n",
            "                    Penabrak Tembok yang Tewaskan Siswa SD saat Wudu di Padang Ditangkap                </a>, <a class=\"media__link\" dtr-act=\"artikel\" dtr-evt=\"newsfeed\" dtr-id=\"6940877\" dtr-idx=\"30\" dtr-sec=\"\" dtr-ttl=\"Aldi Taher Sedih dan Titip Pesan Ini Untuk Yadi Sembako yang Kena Kasus\" href=\"https://hot.detik.com/celeb/d-6940877/aldi-taher-sedih-dan-titip-pesan-ini-untuk-yadi-sembako-yang-kena-kasus\" onclick=\"_pt(this)\">\n",
            "                    Aldi Taher Sedih dan Titip Pesan Ini Untuk Yadi Sembako yang Kena Kasus                </a>, <a class=\"media__link\" dtr-act=\"artikel\" dtr-evt=\"newsfeed\" dtr-id=\"6941600\" dtr-idx=\"31\" dtr-sec=\"\" dtr-ttl=\"Dialami Pria Jaksel Sampai Dibantu Damkar, Ini Penanganan Mr P Terjepit Ritsleting\" href=\"https://health.detik.com/berita-detikhealth/d-6941600/dialami-pria-jaksel-sampai-dibantu-damkar-ini-penanganan-mr-p-terjepit-ritsleting\" onclick=\"_pt(this)\">\n",
            "                    Dialami Pria Jaksel Sampai Dibantu Damkar, Ini Penanganan Mr P Terjepit Ritsleting                </a>, <a class=\"media__link\" dtr-act=\"artikel\" dtr-evt=\"newsfeed\" dtr-id=\"6941596\" dtr-idx=\"32\" dtr-sec=\"\" dtr-ttl=\"Parlemen Spanyol Izinkan Penggunaan Bahasa Basque, Catalan, Galicia\" href=\"https://news.detik.com/dw/d-6941596/parlemen-spanyol-izinkan-penggunaan-bahasa-basque-catalan-galicia\" onclick=\"_pt(this)\">\n",
            "                    Parlemen Spanyol Izinkan Penggunaan Bahasa Basque, Catalan, Galicia                </a>, <a class=\"media__link\" dtr-act=\"artikel\" dtr-evt=\"newsfeed\" dtr-id=\"6941555\" dtr-idx=\"33\" dtr-sec=\"\" dtr-ttl=\"Ini Tips Mengembangkan Karier di Tengah Gempuran AI ala Alumnus Unair\" href=\"https://www.detik.com/edu/edutainment/d-6941555/ini-tips-mengembangkan-karier-di-tengah-gempuran-ai-ala-alumnus-unair\" onclick=\"_pt(this)\">\n",
            "                    Ini Tips Mengembangkan Karier di Tengah Gempuran AI ala Alumnus Unair                </a>, <a class=\"media__link\" dtr-act=\"artikel\" dtr-evt=\"newsfeed\" dtr-id=\"6941595\" dtr-idx=\"34\" dtr-sec=\"\" dtr-ttl=\"Des &amp; Dan: Puas Santap Kebab Chicken Wings hingga Pizza Autentik Turki\" href=\"https://food.detik.com/resto-dan-kafe/d-6941595/des--dan-puas-santap-kebab-chicken-wings-hingga-pizza-autentik-turki\" onclick=\"_pt(this)\">\n",
            "                    Des &amp; Dan: Puas Santap Kebab Chicken Wings hingga Pizza Autentik Turki                </a>, <a class=\"media__link\" dtr-act=\"artikel\" dtr-evt=\"newsfeed\" dtr-id=\"6941332\" dtr-idx=\"35\" dtr-sec=\"\" dtr-ttl=\"Pebulutangkis Kenta Nishimoto &amp; Chiharu Shida Disebut Pacaran, Begini Faktanya\" href=\"https://wolipop.detik.com/entertainment-news/d-6941332/pebulutangkis-kenta-nishimoto--chiharu-shida-disebut-pacaran-begini-faktanya\" onclick=\"_pt(this)\">\n",
            "                    Pebulutangkis Kenta Nishimoto &amp; Chiharu Shida Disebut Pacaran, Begini Faktanya                </a>, <a class=\"media__link\" dtr-act=\"artikel\" dtr-evt=\"newsfeed\" dtr-id=\"6941573\" dtr-idx=\"36\" dtr-sec=\"\" dtr-ttl=\"Ten Hag: MU Belum Butuh Direset, tapi Masih di Bawah Standar\" href=\"https://sport.detik.com/sepakbola/liga-inggris/d-6941573/ten-hag-mu-belum-butuh-direset-tapi-masih-di-bawah-standar\" onclick=\"_pt(this)\">\n",
            "                    Ten Hag: MU Belum Butuh Direset, tapi Masih di Bawah Standar                </a>, <a class=\"media__link\" dtr-act=\"artikel\" dtr-evt=\"newsfeed\" dtr-id=\"6940945\" dtr-idx=\"37\" dtr-sec=\"\" dtr-ttl=\"Aksi Petani Bulgaria Protes Impor Gandum Ukraina\" href=\"https://finance.detik.com/foto-bisnis/d-6940945/aksi-petani-bulgaria-protes-impor-gandum-ukraina\" onclick=\"_pt(this)\">\n",
            "                    Aksi Petani Bulgaria Protes Impor Gandum Ukraina                </a>, <a class=\"media__link\" dtr-act=\"artikel\" dtr-evt=\"newsfeed\" dtr-id=\"6941585\" dtr-idx=\"38\" dtr-sec=\"\" dtr-ttl=\"Jangan Sampai Pinjol Nakal Mencekik Rakyat, OJK Harus Lakukan Ini!\" href=\"https://finance.detik.com/fintech/d-6941585/jangan-sampai-pinjol-nakal-mencekik-rakyat-ojk-harus-lakukan-ini\" onclick=\"_pt(this)\">\n",
            "                    Jangan Sampai Pinjol Nakal Mencekik Rakyat, OJK Harus Lakukan Ini!                </a>, <a class=\"media__link\" dtr-act=\"artikel\" dtr-evt=\"newsfeed\" dtr-id=\"6941590\" dtr-idx=\"39\" dtr-sec=\"\" dtr-ttl=\"Relawan Prabowo Harap Rudi S Kamri Minta Maaf Buntut Isu Tampar Wamentan\" href=\"https://news.detik.com/berita/d-6941590/relawan-prabowo-harap-rudi-s-kamri-minta-maaf-buntut-isu-tampar-wamentan\" onclick=\"_pt(this)\">\n",
            "                    Relawan Prabowo Harap Rudi S Kamri Minta Maaf Buntut Isu Tampar Wamentan                </a>, <a class=\"media__link\" dtr-act=\"artikel\" dtr-evt=\"newsfeed\" dtr-id=\"6941587\" dtr-idx=\"40\" dtr-sec=\"\" dtr-ttl=\"Kali Bekasi Tercemar Limbah dan Bau, Suplai Air Bersih Sempat Terhenti\" href=\"https://news.detik.com/berita/d-6941587/kali-bekasi-tercemar-limbah-dan-bau-suplai-air-bersih-sempat-terhenti\" onclick=\"_pt(this)\">\n",
            "                    Kali Bekasi Tercemar Limbah dan Bau, Suplai Air Bersih Sempat Terhenti                </a>, <a class=\"media__link\" dtr-act=\"artikel\" dtr-evt=\"newsfeed\" dtr-id=\"6941322\" dtr-idx=\"41\" dtr-sec=\"\" dtr-ttl=\"PMVB Vol 03 Finals: Jadwal, Daftar Tim, Hadiah, dan Format\" href=\"https://inet.detik.com/games-news/d-6941322/pmvb-vol-03-finals-jadwal-daftar-tim-hadiah-dan-format\" onclick=\"_pt(this)\">\n",
            "                    PMVB Vol 03 Finals: Jadwal, Daftar Tim, Hadiah, dan Format                </a>, <a class=\"media__link\" dtr-act=\"artikel\" dtr-evt=\"newsfeed\" dtr-id=\"6941581\" dtr-idx=\"42\" dtr-sec=\"\" dtr-ttl=\"Potensi Panas Bumi RI Baru Dimanfaatkan 10%, Sisanya Mau Diekspor?\" href=\"https://finance.detik.com/energi/d-6941581/potensi-panas-bumi-ri-baru-dimanfaatkan-10-sisanya-mau-diekspor\" onclick=\"_pt(this)\">\n",
            "                    Potensi Panas Bumi RI Baru Dimanfaatkan 10%, Sisanya Mau Diekspor?                </a>, <a class=\"media__link\" dtr-act=\"artikel\" dtr-evt=\"newsfeed\" dtr-id=\"6941579\" dtr-idx=\"43\" dtr-sec=\"\" dtr-ttl=\"Sebut Maguire Jadi Kambing Hitam, Kane: Dia Salah Satu Bek Terbaik\" href=\"https://20.detik.com/detikupdate/20230920-230920104/kane-maguire-salah-satu-bek-terbaik-inggris-tapi-jadi-kambing-hitam\" onclick=\"_pt(this)\">\n",
            "                    Sebut Maguire Jadi Kambing Hitam, Kane: Dia Salah Satu Bek Terbaik                </a>, <a class=\"media__link\" dtr-act=\"artikel\" dtr-evt=\"newsfeed\" dtr-id=\"6941437\" dtr-idx=\"44\" dtr-sec=\"\" dtr-ttl=\"Museum Nasional Pulihkan Benda Bersejarah yang Rusak, Ini Penampakannya\" href=\"https://hot.detik.com/art/d-6941437/museum-nasional-pulihkan-benda-bersejarah-yang-rusak-ini-penampakannya\" onclick=\"_pt(this)\">\n",
            "                    Museum Nasional Pulihkan Benda Bersejarah yang Rusak, Ini Penampakannya                </a>, <a class=\"media__link\" dtr-act=\"artikel\" dtr-evt=\"newsfeed\" dtr-id=\"6941566\" dtr-idx=\"45\" dtr-sec=\"\" dtr-ttl=\"KPU Pastikan Logistik Pemilu 2024 Sesuai Jadwal Tanpa Keterlambatan\" href=\"https://news.detik.com/foto-news/d-6941566/kpu-pastikan-logistik-pemilu-2024-sesuai-jadwal-tanpa-keterlambatan\" onclick=\"_pt(this)\">\n",
            "                    KPU Pastikan Logistik Pemilu 2024 Sesuai Jadwal Tanpa Keterlambatan                </a>, <a class=\"media__link\" dtr-act=\"artikel\" dtr-evt=\"newsfeed\" dtr-id=\"6941564\" dtr-idx=\"46\" dtr-sec=\"\" dtr-ttl=\"Sinopsis Kidnap di Bioskop Trans TV, Dibintangi Halley Berry\" href=\"https://wolipop.detik.com/entertainment-news/d-6941564/sinopsis-kidnap-di-bioskop-trans-tv-dibintangi-halley-berry\" onclick=\"_pt(this)\">\n",
            "                    Sinopsis Kidnap di Bioskop Trans TV, Dibintangi Halley Berry                </a>, <a class=\"media__link\" dtr-act=\"artikel\" dtr-evt=\"newsfeed\" dtr-id=\"6941562\" dtr-idx=\"47\" dtr-sec=\"\" dtr-ttl=\"Bule Inggris Pelanggar Lalin yang Dorong-Tampar Polisi di Bali Ditangkap!\" href=\"https://news.detik.com/berita/d-6941562/bule-inggris-pelanggar-lalin-yang-dorong-tampar-polisi-di-bali-ditangkap\" onclick=\"_pt(this)\">\n",
            "                    Bule Inggris Pelanggar Lalin yang Dorong-Tampar Polisi di Bali Ditangkap!                </a>, <a class=\"media__link\" dtr-act=\"artikel\" dtr-evt=\"newsfeed\" dtr-id=\"6941551\" dtr-idx=\"48\" dtr-sec=\"\" dtr-ttl=\"Gus Iqdam Ungkap Dipersulit ke Luar Negeri, Imigrasi Soetta Membantah\" href=\"https://travel.detik.com/travel-news/d-6941551/gus-iqdam-ungkap-dipersulit-ke-luar-negeri-imigrasi-soetta-membantah\" onclick=\"_pt(this)\">\n",
            "                    Gus Iqdam Ungkap Dipersulit ke Luar Negeri, Imigrasi Soetta Membantah                </a>, <a class=\"media__link\" dtr-act=\"artikel\" dtr-evt=\"newsfeed\" dtr-id=\"6941361\" dtr-idx=\"49\" dtr-sec=\"\" dtr-ttl=\"Fakta Ivan Provedel: Kiper Lazio Kelahiran 1994, Cetak Gol Menit 94:19\" href=\"https://sport.detik.com/sepakbola/uefa/d-6941361/fakta-ivan-provedel-kiper-lazio-kelahiran-1994-cetak-gol-menit-9419\" onclick=\"_pt(this)\">\n",
            "                    Fakta Ivan Provedel: Kiper Lazio Kelahiran 1994, Cetak Gol Menit 94:19                </a>, <a class=\"media__link\" dtr-act=\"artikel\" dtr-evt=\"newsfeed\" dtr-id=\"6941556\" dtr-idx=\"50\" dtr-sec=\"\" dtr-ttl=\"Jangan Sampai Terjerat Utang di Pinjol Nakal, Simak Tipsnya!\" href=\"https://finance.detik.com/fintech/d-6941556/jangan-sampai-terjerat-utang-di-pinjol-nakal-simak-tipsnya\" onclick=\"_pt(this)\">\n",
            "                    Jangan Sampai Terjerat Utang di Pinjol Nakal, Simak Tipsnya!                </a>, <a class=\"media__link\" dtr-act=\"artikel\" dtr-evt=\"newsfeed\" dtr-id=\"6941468\" dtr-idx=\"51\" dtr-sec=\"\" dtr-ttl=\"Mencari Tokoh Penjaga Konektivitas di Indonesia\" href=\"https://news.detik.com/berita/d-6941468/mencari-tokoh-penjaga-konektivitas-di-indonesia\" onclick=\"_pt(this)\">\n",
            "                    Mencari Tokoh Penjaga Konektivitas di Indonesia                </a>, <a class=\"media__link\" dtr-act=\"artikel\" dtr-evt=\"newsfeed\" dtr-id=\"6940968\" dtr-idx=\"52\" dtr-sec=\"\" dtr-ttl=\"BOYNEXTDOOR Perdana 'Mendarat' di Chart Billboard\" href=\"https://hot.detik.com/berita-kpop/d-6940968/boynextdoor-perdana-mendarat-di-chart-billboard\" onclick=\"_pt(this)\">\n",
            "                    BOYNEXTDOOR Perdana 'Mendarat' di Chart Billboard                </a>, <a class=\"media__link\" dtr-act=\"artikel\" dtr-evt=\"newsfeed\" dtr-id=\"6941553\" dtr-idx=\"53\" dtr-sec=\"\" dtr-ttl=\"Berkunjung ke Pabrik Motor Listrik yang Bisa Produksi 100 Ribu Unit Setahun\" href=\"https://finance.detik.com/energi/d-6941553/berkunjung-ke-pabrik-motor-listrik-yang-bisa-produksi-100-ribu-unit-setahun\" onclick=\"_pt(this)\">\n",
            "                    Berkunjung ke Pabrik Motor Listrik yang Bisa Produksi 100 Ribu Unit Setahun                </a>, <a class=\"media__link\" dtr-act=\"tag\" dtr-evt=\"box tag populer\" dtr-idx=\"1\" dtr-sec=\"\" dtr-ttl=\"karen agustiawan\" href=\"https://www.detik.com/tag/karen-agustiawan\" onclick=\"_pt(this)\">\n",
            " karen agustiawan </a>, <a class=\"media__link\" dtr-act=\"tag\" dtr-evt=\"box tag populer\" dtr-idx=\"2\" dtr-sec=\"\" dtr-ttl=\"museum nasional kebakaran\" href=\"https://www.detik.com/tag/museum-nasional-kebakaran\" onclick=\"_pt(this)\">\n",
            " museum nasional kebakaran </a>, <a class=\"media__link\" dtr-act=\"tag\" dtr-evt=\"box tag populer\" dtr-idx=\"3\" dtr-sec=\"\" dtr-ttl=\"rumah produksi film porno\" href=\"https://www.detik.com/tag/rumah-produksi-film-porno\" onclick=\"_pt(this)\">\n",
            " rumah produksi film porno </a>, <a class=\"media__link\" dtr-act=\"tag\" dtr-evt=\"box tag populer\" dtr-idx=\"4\" dtr-sec=\"\" dtr-ttl=\"kebakaran bromo\" href=\"https://www.detik.com/tag/kebakaran-bromo\" onclick=\"_pt(this)\">\n",
            " kebakaran bromo </a>, <a class=\"media__link\" dtr-act=\"tag\" dtr-evt=\"box tag populer\" dtr-idx=\"5\" dtr-sec=\"\" dtr-ttl=\"fredy pratama\" href=\"https://www.detik.com/tag/fredy-pratama\" onclick=\"_pt(this)\">\n",
            " fredy pratama </a>, <a class=\"media__link\" dtr-act=\"terpopuler\" dtr-evt=\"box artikel terpopuler\" dtr-id=\"6941298\" dtr-idx=\"1\" dtr-sec=\"\" dtr-ttl=\"Persamuhan Terlarang Oditur TNI di KPK\" href=\"https://news.detik.com/spotlight/d-6941298/persamuhan-terlarang-oditur-tni-di-kpk\" onclick=\"_pt(this)\">\n",
            " Persamuhan Terlarang Oditur TNI di KPK </a>, <a class=\"media__link\" dtr-act=\"terpopuler\" dtr-evt=\"box artikel terpopuler\" dtr-id=\"6941466\" dtr-idx=\"2\" dtr-sec=\"\" dtr-ttl=\"Bak Film Laga! Pria Bogor Lompat-Duduki Setang lalu Pukuli Maling Motornya\" href=\"https://news.detik.com/berita/d-6941466/bak-film-laga-pria-bogor-lompat-duduki-setang-lalu-pukuli-maling-motornya\" onclick=\"_pt(this)\">\n",
            " Bak Film Laga! Pria Bogor Lompat-Duduki Setang lalu Pukuli Maling Motornya </a>, <a class=\"media__link\" dtr-act=\"terpopuler\" dtr-evt=\"box artikel terpopuler\" dtr-id=\"6941562\" dtr-idx=\"3\" dtr-sec=\"\" dtr-ttl=\"Bule Inggris Pelanggar Lalin yang Dorong-Tampar Polisi di Bali Ditangkap!\" href=\"https://news.detik.com/berita/d-6941562/bule-inggris-pelanggar-lalin-yang-dorong-tampar-polisi-di-bali-ditangkap\" onclick=\"_pt(this)\">\n",
            " Bule Inggris Pelanggar Lalin yang Dorong-Tampar Polisi di Bali Ditangkap! </a>, <a class=\"media__link\" dtr-act=\"terpopuler\" dtr-evt=\"box artikel terpopuler\" dtr-id=\"6941285\" dtr-idx=\"4\" dtr-sec=\"\" dtr-ttl=\"Diperiksa KPK, Irwan Mussry Jelaskan Hubungan Perusahaan dengan Eko Darmanto\" href=\"https://news.detik.com/berita/d-6941285/diperiksa-kpk-irwan-mussry-jelaskan-hubungan-perusahaan-dengan-eko-darmanto\" onclick=\"_pt(this)\">\n",
            " Diperiksa KPK, Irwan Mussry Jelaskan Hubungan Perusahaan dengan Eko Darmanto </a>, <a class=\"media__link\" dtr-act=\"terpopuler\" dtr-evt=\"box artikel terpopuler\" dtr-id=\"6941441\" dtr-idx=\"5\" dtr-sec=\"\" dtr-ttl=\"Bos Kartel Dikubur dengan Ratusan Senjata untuk Perlindungan di Akhirat\" href=\"https://news.detik.com/internasional/d-6941441/bos-kartel-dikubur-dengan-ratusan-senjata-untuk-perlindungan-di-akhirat\" onclick=\"_pt(this)\">\n",
            " Bos Kartel Dikubur dengan Ratusan Senjata untuk Perlindungan di Akhirat </a>, <a class=\"media__link\" dtr-act=\"artikel komentar\" dtr-evt=\"box komentar terbanyak\" dtr-id=\"6934240\" dtr-idx=\"1\" dtr-sec=\"\" dtr-ttl=\"Komunitas Tionghoa Minta Anies Lanjutkan Jejak Kepemimpinan di Indonesia\" href=\"https://news.detik.com/pemilu/d-6934240/komunitas-tionghoa-minta-anies-lanjutkan-jejak-kepemimpinan-di-indonesia\" onclick=\"_pt(this)\">\n",
            " Komunitas Tionghoa Minta Anies Lanjutkan Jejak Kepemimpinan di Indonesia </a>, <a class=\"media__link\" dtr-act=\"artikel komentar\" dtr-evt=\"box komentar terbanyak\" dtr-id=\"6934220\" dtr-idx=\"2\" dtr-sec=\"\" dtr-ttl=\"Veronica Tan Kenang Bantuan Anies untuk Anak-anak Rusun\" href=\"https://news.detik.com/berita/d-6934220/veronica-tan-kenang-bantuan-anies-untuk-anak-anak-rusun\" onclick=\"_pt(this)\">\n",
            " Veronica Tan Kenang Bantuan Anies untuk Anak-anak Rusun </a>, <a class=\"media__link\" dtr-act=\"artikel komentar\" dtr-evt=\"box komentar terbanyak\" dtr-id=\"6937328\" dtr-idx=\"3\" dtr-sec=\"\" dtr-ttl=\"Ganjar di UI soal Marak TKA China: Kita Usir, tapi Kamu Bisa Gantikan Nggak?\" href=\"https://news.detik.com/pemilu/d-6937328/ganjar-di-ui-soal-marak-tka-china-kita-usir-tapi-kamu-bisa-gantikan-nggak\" onclick=\"_pt(this)\">\n",
            " Ganjar di UI soal Marak TKA China: Kita Usir, tapi Kamu Bisa Gantikan Nggak? </a>]\n"
          ]
        }
      ]
    },
    {
      "cell_type": "code",
      "source": [
        "links=[]\n",
        "for a in soup.select('h3 a'):\n",
        "  links.append(a.attrs.get('href'))\n",
        "\n",
        "print(links[0])"
      ],
      "metadata": {
        "colab": {
          "base_uri": "https://localhost:8080/"
        },
        "id": "nvGSkjYlJG7n",
        "outputId": "7fc6771a-89c4-4fcc-cdaf-c9978e644593"
      },
      "execution_count": null,
      "outputs": [
        {
          "output_type": "stream",
          "name": "stdout",
          "text": [
            "https://news.detik.com/berita/d-6941623/jembatan-akses-marunda-sisi-utara-bakal-tuntas-oktober\n"
          ]
        }
      ]
    },
    {
      "cell_type": "code",
      "source": [
        "article_title=[]\n",
        "links=[]\n",
        "\n",
        "for t in soup.select('h3.media__title'):\n",
        "  article_title.append(t.get_text())\n",
        "  links.append(t.attrs.get('href'))\n",
        "\n",
        "print(article_title)\n",
        "print(links)"
      ],
      "metadata": {
        "colab": {
          "base_uri": "https://localhost:8080/"
        },
        "id": "ixYBIRl1JLLI",
        "outputId": "9414640c-c71a-438e-ffb7-4935abf69095"
      },
      "execution_count": null,
      "outputs": [
        {
          "output_type": "stream",
          "name": "stdout",
          "text": [
            "['\\n\\n                    Usulan Transisi Pertalite ke Pertamax Green 92 Masuk RAPBN 2024?                \\n', '\\n\\n                    Memanas, India Keluarkan Travel Warning ke Kanada!                \\n', '\\n\\n                    Nagorno-Karabakh Berdarah, Operasi Militer Azerbaijan Tewaskan 32 Orang                \\n', \"\\n\\n Massa FPI-PA 212 Gelar 'Aksi 209 Bela Rempang' di Patung Kuda Jakpus \\n\", '\\n\\n Detik-detik Atlet Futsal Blitar Ditendang Lawan saat Selebrasi Sujud \\n', \"\\n\\n Tangis Fans Cilik Iran Berubah Jadi 'Siuuu' Usai Bertemu Ronaldo \\n\", '\\n\\n                    Ganjar Sebut Nama Bacawapres Bukan Jadi Prioritas: Kita Siapkan Waktu Dulu                \\n', '\\n\\n\\t\\t\\t\\t\\tK-Talk: TMI Game Bareng XODIAC!                \\n', '\\n\\n                    Pebalap Masih Ada yang di Rumah Gegara Belum Dapat Visa, Bagaimana Nasib MotoGP India?                \\n', '\\n\\n                    Buron 4 Bulan, Terduga Pelaku Pialang Asuransi Ilegal Ditangkap! Ini Tampangnya                \\n', '\\n\\n                    Mau Tiket Kereta Cuma Rp 50 Ribu? Buruan ke Sini                \\n', '\\n\\n                    Najwa Shihab-Akmal Marhali Masuk Tim Satgas Antimafia Bola Independen                \\n', '\\n\\n                    Beriman kepada Qada dan Qadar: Arti, Dalil dan Fungsinya                \\n', '\\n\\n\\t\\t\\t\\t\\tKondisi Terkini Panji Petualang, Kadar Gula Darah Sudah Sentuh Angka Normal                \\n', '\\n\\n                    Jembatan Akses Marunda Sisi Utara Bakal Tuntas Oktober                \\n', '\\n\\n                    Ini Cara Google Hadapi Pemilu 2024 yang Dominan Pemilih Muda                \\n', '\\n\\n                    Bak Film Laga! Pria Bogor Lompat-Duduki Setang lalu Pukuli Maling Motornya                \\n', \"\\n\\n                    Koper Yura Yunita 'Nyangkut' di Bandara, Bos Garuda Buka Suara                \\n\", '\\n\\n                    Penampakan Mobil dan Tas Mewah Selebgram Nur Utami yang Disita Bareskrim                \\n', '\\n\\n                    KPU: Ada Usulan Pemungutan Suara di Luar Negeri 8, 9 atau 10 Februari 2024                \\n', '\\n\\n                    Kementerian ESDM Lelang 3 Blok Migas di Papua                \\n', '\\n\\n\\t\\t\\t\\t\\tTerungkap, Bule Inggris yang Dorong Petugas juga Sempat Tampar Polisi                \\n', '\\n\\n                    Bunga Bangkai Terancam Punah, Kisah Sukses Konservasi RI Jadi Sorotan                \\n', '\\n\\n                    Indobuildco Mau Perpanjang HGB Hotel Sultan, BPN: Harus Persetujuan Setneg                \\n', '\\n\\n                    Meski Dekat Tempat Sampah, Taman Ini Diserbu Warga Medan yang Butuh Hiburan                \\n', '\\n\\n                    Ketua KPU di Rapat DPR: Kami Lebih Cenderung Pendaftaran Capres 19-25 Oktober                \\n', '\\n\\n                    Polisi Bongkar Sindikat Pemalsuan STNK di Depok, 3 Pelaku Ditangkap                \\n', '\\n\\n                    Benda-benda Berusia Lebih dari Seribu Tahun Milik Muslim Ditemukan di Sydney                \\n', '\\n\\n                    Penabrak Tembok yang Tewaskan Siswa SD saat Wudu di Padang Ditangkap                \\n', '\\n\\n                    Aldi Taher Sedih dan Titip Pesan Ini Untuk Yadi Sembako yang Kena Kasus                \\n', '\\n\\n                    Dialami Pria Jaksel Sampai Dibantu Damkar, Ini Penanganan Mr P Terjepit Ritsleting                \\n', '\\n\\n                    Parlemen Spanyol Izinkan Penggunaan Bahasa Basque, Catalan, Galicia                \\n', '\\n\\n                    Ini Tips Mengembangkan Karier di Tengah Gempuran AI ala Alumnus Unair                \\n', '\\n\\n                    Des & Dan: Puas Santap Kebab Chicken Wings hingga Pizza Autentik Turki                \\n', '\\n\\n                    Pebulutangkis Kenta Nishimoto & Chiharu Shida Disebut Pacaran, Begini Faktanya                \\n', '\\n\\n                    Ten Hag: MU Belum Butuh Direset, tapi Masih di Bawah Standar                \\n', '\\n\\n                    Aksi Petani Bulgaria Protes Impor Gandum Ukraina                \\n', '\\n\\n                    Jangan Sampai Pinjol Nakal Mencekik Rakyat, OJK Harus Lakukan Ini!                \\n', '\\n\\n                    Relawan Prabowo Harap Rudi S Kamri Minta Maaf Buntut Isu Tampar Wamentan                \\n', '\\n\\n                    Kali Bekasi Tercemar Limbah dan Bau, Suplai Air Bersih Sempat Terhenti                \\n', '\\n\\n                    PMVB Vol 03 Finals: Jadwal, Daftar Tim, Hadiah, dan Format                \\n', '\\n\\n                    Potensi Panas Bumi RI Baru Dimanfaatkan 10%, Sisanya Mau Diekspor?                \\n', '\\n\\n                    Sebut Maguire Jadi Kambing Hitam, Kane: Dia Salah Satu Bek Terbaik                \\n', '\\n\\n                    Museum Nasional Pulihkan Benda Bersejarah yang Rusak, Ini Penampakannya                \\n', '\\n\\n                    KPU Pastikan Logistik Pemilu 2024 Sesuai Jadwal Tanpa Keterlambatan                \\n', '\\n\\n                    Sinopsis Kidnap di Bioskop Trans TV, Dibintangi Halley Berry                \\n', '\\n\\n                    Bule Inggris Pelanggar Lalin yang Dorong-Tampar Polisi di Bali Ditangkap!                \\n', '\\n\\n                    Gus Iqdam Ungkap Dipersulit ke Luar Negeri, Imigrasi Soetta Membantah                \\n', '\\n\\n                    Fakta Ivan Provedel: Kiper Lazio Kelahiran 1994, Cetak Gol Menit 94:19                \\n', '\\n\\n                    Jangan Sampai Terjerat Utang di Pinjol Nakal, Simak Tipsnya!                \\n', '\\n\\n                    Mencari Tokoh Penjaga Konektivitas di Indonesia                \\n', \"\\n\\n                    BOYNEXTDOOR Perdana 'Mendarat' di Chart Billboard                \\n\", '\\n\\n                    Berkunjung ke Pabrik Motor Listrik yang Bisa Produksi 100 Ribu Unit Setahun                \\n', '\\n\\n karen agustiawan \\n', '\\n\\n museum nasional kebakaran \\n', '\\n\\n rumah produksi film porno \\n', '\\n\\n kebakaran bromo \\n', '\\n\\n fredy pratama \\n', '\\n\\n Persamuhan Terlarang Oditur TNI di KPK \\n', '\\n\\n Bak Film Laga! Pria Bogor Lompat-Duduki Setang lalu Pukuli Maling Motornya \\n', '\\n\\n Bule Inggris Pelanggar Lalin yang Dorong-Tampar Polisi di Bali Ditangkap! \\n', '\\n\\n Diperiksa KPK, Irwan Mussry Jelaskan Hubungan Perusahaan dengan Eko Darmanto \\n', '\\n\\n Bos Kartel Dikubur dengan Ratusan Senjata untuk Perlindungan di Akhirat \\n', '\\n\\n Komunitas Tionghoa Minta Anies Lanjutkan Jejak Kepemimpinan di Indonesia \\n', '\\n\\n Veronica Tan Kenang Bantuan Anies untuk Anak-anak Rusun \\n', '\\n\\n Ganjar di UI soal Marak TKA China: Kita Usir, tapi Kamu Bisa Gantikan Nggak? \\n']\n",
            "[None, None, None, None, None, None, None, None, None, None, None, None, None, None, None, None, None, None, None, None, None, None, None, None, None, None, None, None, None, None, None, None, None, None, None, None, None, None, None, None, None, None, None, None, None, None, None, None, None, None, None, None, None, None, None, None, None, None, None, None, None, None, None, None, None, None]\n"
          ]
        }
      ]
    },
    {
      "cell_type": "code",
      "source": [
        "df = pd.DataFrame(\n",
        "    {'article title': article_title,\n",
        "     'link': links}\n",
        "    )\n",
        "\n",
        "print (df.head())\n",
        "\n",
        "df.to_csv('voxarticle.csv', index=False)"
      ],
      "metadata": {
        "colab": {
          "base_uri": "https://localhost:8080/"
        },
        "id": "pfhsfwJ0JRlz",
        "outputId": "6c3caf61-1a81-4259-857a-c42977742c53"
      },
      "execution_count": null,
      "outputs": [
        {
          "output_type": "stream",
          "name": "stdout",
          "text": [
            "                                       article title  link\n",
            "0  \\n\\n                    Usulan Transisi Pertal...  None\n",
            "1  \\n\\n                    Memanas, India Keluark...  None\n",
            "2  \\n\\n                    Nagorno-Karabakh Berda...  None\n",
            "3  \\n\\n Massa FPI-PA 212 Gelar 'Aksi 209 Bela Rem...  None\n",
            "4  \\n\\n Detik-detik Atlet Futsal Blitar Ditendang...  None\n"
          ]
        }
      ]
    }
  ]
}