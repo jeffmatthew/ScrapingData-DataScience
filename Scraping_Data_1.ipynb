{
  "nbformat": 4,
  "nbformat_minor": 0,
  "metadata": {
    "colab": {
      "provenance": []
    },
    "kernelspec": {
      "name": "python3",
      "display_name": "Python 3"
    },
    "language_info": {
      "name": "python"
    }
  },
  "cells": [
    {
      "cell_type": "code",
      "execution_count": null,
      "metadata": {
        "id": "D9xdlazbsfoN"
      },
      "outputs": [],
      "source": [
        "from bs4 import BeautifulSoup\n",
        "import requests\n",
        "import re\n",
        "import pandas as pd"
      ]
    },
    {
      "cell_type": "code",
      "source": [
        "# Downloading vox data\n",
        "headers = {'Accept-Language': 'en-US,en;q=0.8'}\n",
        "url = 'https://www.vox.com'\n",
        "response = requests.get(url,headers=headers)\n",
        "soup = BeautifulSoup(response.text, \"html.parser\")"
      ],
      "metadata": {
        "id": "PotRyZHbt-KT"
      },
      "execution_count": null,
      "outputs": []
    },
    {
      "cell_type": "code",
      "source": [
        "newstitle = soup.select('h2.c-entry-box--compact__title')\n",
        "print(newstitle[0])\n",
        "print(\" \")\n",
        "print(\"how many titles are available?\",len(soup.select('h2.c-entry-box--compact__title')))\n"
      ],
      "metadata": {
        "colab": {
          "base_uri": "https://localhost:8080/"
        },
        "id": "qJUV1ZemubsZ",
        "outputId": "f99262ef-80a4-432e-b6ac-7db0e64d25df"
      },
      "execution_count": null,
      "outputs": [
        {
          "output_type": "stream",
          "name": "stdout",
          "text": [
            "<h2 class=\"c-entry-box--compact__title\"><a data-analytics-link=\"article\" data-chorus-optimize-field=\"hed\" href=\"https://www.vox.com/2023/9/19/23880364/ukraine-defense-ministry-dismissals-zelenskyy-unga\">What a defense ministry shake-up may say about Ukraine’s corruption problem</a></h2>\n",
            " \n",
            "how many titles are available? 49\n"
          ]
        }
      ]
    },
    {
      "cell_type": "code",
      "source": [
        "text = soup.select('h3 a')\n",
        "print(text)"
      ],
      "metadata": {
        "colab": {
          "base_uri": "https://localhost:8080/"
        },
        "id": "kjRTXuPKzfdR",
        "outputId": "f44bc78f-886c-400b-e4f8-c5563c75c1c8"
      },
      "execution_count": null,
      "outputs": [
        {
          "output_type": "stream",
          "name": "stdout",
          "text": [
            "[<a href=\"/videos\">\n",
            "<span class=\"c-rock-list__title-text\">\n",
            "          Video\n",
            "        </span>\n",
            "</a>, <a href=\"/explainers\">\n",
            "<span class=\"c-rock-list__title-text\">\n",
            "          Explainers\n",
            "        </span>\n",
            "</a>, <a href=\"https://www.vox.com/even-better/23864487/should-you-be-friends-with-your-kids-no-authoritative-permissive\">Should you be friends with your kids?</a>, <a href=\"https://www.vox.com/even-better/23801678/explore-your-city-tourist\">Take the visitor’s approach to exploring your own city</a>, <a href=\"https://www.vox.com/even-better/23861234/birthday-week-trip-expensive-celebration-friendship\">How birthdays became week-long blowouts</a>, <a href=\"https://www.vox.com/even-better/23842804/inflation-lifestyle-creep-advice-budgeting-money\">Will I just keep spending more and more money forever? </a>, <a href=\"/podcasts\">\n",
            "<span class=\"c-rock-list__title-text\">\n",
            "          Podcasts\n",
            "        </span>\n",
            "</a>]\n"
          ]
        }
      ]
    },
    {
      "cell_type": "code",
      "source": [
        "links=[]\n",
        "for a in soup.select('h3 a'):\n",
        "  links.append(a.attrs.get('href'))\n",
        "\n",
        "print(links[0])"
      ],
      "metadata": {
        "colab": {
          "base_uri": "https://localhost:8080/"
        },
        "id": "kuDcUNm1zle5",
        "outputId": "9a3d2894-7554-4d37-e205-399f2f314765"
      },
      "execution_count": null,
      "outputs": [
        {
          "output_type": "stream",
          "name": "stdout",
          "text": [
            "/videos\n"
          ]
        }
      ]
    },
    {
      "cell_type": "code",
      "source": [
        "article_title=[]\n",
        "links=[]\n",
        "\n",
        "for t in soup.select('h2.c-entry-box--compact__title'):\n",
        "  article_title.append(t.get_text())\n",
        "  links.append(t.attrs.get('href'))\n",
        "\n",
        "print(article_title)\n",
        "print(links)"
      ],
      "metadata": {
        "colab": {
          "base_uri": "https://localhost:8080/"
        },
        "id": "SuJ6bUIu0eOd",
        "outputId": "57b77868-d57d-467c-b55e-55661a7c070f"
      },
      "execution_count": null,
      "outputs": [
        {
          "output_type": "stream",
          "name": "stdout",
          "text": [
            "['What a defense ministry shake-up may say about Ukraine’s corruption problem', 'Maren Morris distancing herself from country\\xa0music underscores its existential crisis', 'Florida has become a zoo. A literal zoo.', 'Drew Barrymore tried to live, laugh, scab her way across the picket line. It didn’t work.', 'AI that’s smarter than humans? Americans say a firm “no thank you.”', '“Florida Man,” explained', 'The US hired a leading economist to fix how it allocates foreign aid. Here’s his plan.', 'Google’s free AI isn’t just for search anymore', 'Sound of Freedom wants to raise awareness about child trafficking. Here’s what it’s really doing.', 'The United States of Florida', 'The sexual assault allegations against Russell Brand, explained', 'What’s the state of the Hollywood strikes?', 'The impeachment trial of\\xa0Texas\\xa0Attorney General Ken Paxton, explained', 'Take a mental break with the newest Vox crossword', 'The US-Iran prisoner swap, briefly explained', 'The chaotic and cinematic MGM casino hack, explained', 'The backlash against Ashton Kutcher and Mila Kunis, explained', \"We're building great things, and we need your talent.\", 'Has Apple Pay made it too easy to spend money? ', 'The Supreme Court’s new term will be dominated by dangerous and incoherent lawsuits', 'Get Vox in your inbox. Sign up for Vox’s free newsletters.', 'The ocean is rising — and so is Miami’s skyline', 'The mind-boggling scale of Disney World', 'Vox, explain it to me', 'Florida’s favorite grocery store seeks to be uncomplicated in a complicated world', 'The dream — and reality — of moving to Florida ', 'How Florida became the center of the Republican universe', 'Trump, on Meet the Press, shows he still has no policy plans ', 'The terrible paradox of air pollution and climate change', 'Should you be friends with your kids?', 'America’s most iconic coral reef is dying. Only one thing will save it.', 'What’s up with China’s disappearing senior military officers?', 'The UAW’s big asks, unusual strike strategy, and what this all means for you', 'Take the visitor’s approach to exploring your own city', 'How Covid misinformation stayed one step ahead of Facebook', 'Apple has an AirPod repair problem', '22 movies to watch for this fall', 'The true story of the fake unboxed aliens is wilder than actual aliens ', 'Why are so many useless cold medicines littering pharmacy shelves? ', '\\nEven Better\\n', '5 new books (and one very old one) to read in order to understand capitalism', 'The fate of hundreds of thousands of immigrants is caught in an endless court fight', 'Lots of Americans are in the global 1%. A tenth of their income could transform the world.', 'Inside the very strange, very expensive race to “de-age”', 'Three reasons Biden is struggling with Black and Latino voters', 'Washington and Wall Street are split over China.\\xa0What now?', 'Dumb Money and what actually happened with GameStop, explained', 'The indictment of Hunter Biden isn’t really about gun charges', 'Planned Parenthood’s risky plan to bring abortions back to Wisconsin']\n",
            "[None, None, None, None, None, None, None, None, None, None, None, None, None, None, None, None, None, None, None, None, None, None, None, None, None, None, None, None, None, None, None, None, None, None, None, None, None, None, None, None, None, None, None, None, None, None, None, None, None]\n"
          ]
        }
      ]
    },
    {
      "cell_type": "code",
      "source": [
        "df = pd.DataFrame(\n",
        "    {'article title': article_title,\n",
        "     'link': links}\n",
        "    )\n",
        "\n",
        "print (df.head())\n",
        "\n",
        "df.to_csv('voxarticle.csv', index=False)"
      ],
      "metadata": {
        "colab": {
          "base_uri": "https://localhost:8080/"
        },
        "id": "j_tNLBYi0nLT",
        "outputId": "fbd8f449-969c-4a2e-fef0-835ab7dc60d5"
      },
      "execution_count": null,
      "outputs": [
        {
          "output_type": "stream",
          "name": "stdout",
          "text": [
            "                                       article title  link\n",
            "0  What a defense ministry shake-up may say about...  None\n",
            "1  Maren Morris distancing herself from country m...  None\n",
            "2           Florida has become a zoo. A literal zoo.  None\n",
            "3  Drew Barrymore tried to live, laugh, scab her ...  None\n",
            "4  AI that’s smarter than humans? Americans say a...  None\n"
          ]
        }
      ]
    }
  ]
}